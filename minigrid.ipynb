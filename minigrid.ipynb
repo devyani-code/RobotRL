{
 "cells": [
  {
   "cell_type": "code",
   "execution_count": 1,
   "metadata": {},
   "outputs": [],
   "source": [
    "import minigrid\n",
    "import gymnasium as gym\n",
    "import numpy as np"
   ]
  },
  {
   "cell_type": "code",
   "execution_count": 2,
   "metadata": {},
   "outputs": [],
   "source": [
    "def choose_action(state,epsilon):\n",
    "   random = False\n",
    "   greedy = False ###choose action based on epsilon greedy policy\n",
    "   if np.random.rand()< epsilon:\n",
    "      random = True\n",
    "      action = np.random.choice(3)\n",
    "      \n",
    "   else:\n",
    "      greedy = True\n",
    "      action = np.argmax(Q[state['image'][:,:,2],:])\n",
    "   \n",
    "   if action>2:\n",
    "      pass\n",
    "      # print(random, greedy, action)\n",
    "   \n",
    "   return action\n",
    "   \n",
    "def update_Q(state,action, new_state, reward):\n",
    "    best_next_state_action_Q = np.max(Q[new_state['image'][:,:,2],:])\n",
    "    Q[state['image'][:,:,2],action] += learning_rate*(reward + discount*best_next_state_action_Q - Q[state['image'][:,:,2],action])\n"
   ]
  },
  {
   "cell_type": "code",
   "execution_count": 3,
   "metadata": {},
   "outputs": [
    {
     "name": "stdout",
     "output_type": "stream",
     "text": [
      "Episode =  1 0\n",
      "Episode =  2 0\n",
      "Episode =  3 0.5049999999999999\n"
     ]
    },
    {
     "ename": "ValueError",
     "evalue": "Unknown action: 14",
     "output_type": "error",
     "traceback": [
      "\u001b[0;31m---------------------------------------------------------------------------\u001b[0m",
      "\u001b[0;31mValueError\u001b[0m                                Traceback (most recent call last)",
      "Cell \u001b[0;32mIn[3], line 14\u001b[0m\n\u001b[1;32m     12\u001b[0m action \u001b[38;5;241m=\u001b[39m choose_action(state,\u001b[38;5;241m0.5\u001b[39m) \n\u001b[1;32m     13\u001b[0m  \u001b[38;5;66;03m# User-defined policy function\u001b[39;00m\n\u001b[0;32m---> 14\u001b[0m new_state, reward, terminated, truncated, info \u001b[38;5;241m=\u001b[39m \u001b[43menv\u001b[49m\u001b[38;5;241;43m.\u001b[39;49m\u001b[43mstep\u001b[49m\u001b[43m(\u001b[49m\u001b[43maction\u001b[49m\u001b[43m)\u001b[49m\n\u001b[1;32m     15\u001b[0m update_Q(state, action, new_state, reward)\n\u001b[1;32m     16\u001b[0m state \u001b[38;5;241m=\u001b[39m new_state\n",
      "File \u001b[0;32m~/.local/lib/python3.8/site-packages/gymnasium/wrappers/order_enforcing.py:56\u001b[0m, in \u001b[0;36mOrderEnforcing.step\u001b[0;34m(self, action)\u001b[0m\n\u001b[1;32m     54\u001b[0m \u001b[38;5;28;01mif\u001b[39;00m \u001b[38;5;129;01mnot\u001b[39;00m \u001b[38;5;28mself\u001b[39m\u001b[38;5;241m.\u001b[39m_has_reset:\n\u001b[1;32m     55\u001b[0m     \u001b[38;5;28;01mraise\u001b[39;00m ResetNeeded(\u001b[38;5;124m\"\u001b[39m\u001b[38;5;124mCannot call env.step() before calling env.reset()\u001b[39m\u001b[38;5;124m\"\u001b[39m)\n\u001b[0;32m---> 56\u001b[0m \u001b[38;5;28;01mreturn\u001b[39;00m \u001b[38;5;28;43mself\u001b[39;49m\u001b[38;5;241;43m.\u001b[39;49m\u001b[43menv\u001b[49m\u001b[38;5;241;43m.\u001b[39;49m\u001b[43mstep\u001b[49m\u001b[43m(\u001b[49m\u001b[43maction\u001b[49m\u001b[43m)\u001b[49m\n",
      "File \u001b[0;32m~/.local/lib/python3.8/site-packages/gymnasium/wrappers/env_checker.py:51\u001b[0m, in \u001b[0;36mPassiveEnvChecker.step\u001b[0;34m(self, action)\u001b[0m\n\u001b[1;32m     49\u001b[0m     \u001b[38;5;28;01mreturn\u001b[39;00m env_step_passive_checker(\u001b[38;5;28mself\u001b[39m\u001b[38;5;241m.\u001b[39menv, action)\n\u001b[1;32m     50\u001b[0m \u001b[38;5;28;01melse\u001b[39;00m:\n\u001b[0;32m---> 51\u001b[0m     \u001b[38;5;28;01mreturn\u001b[39;00m \u001b[38;5;28;43mself\u001b[39;49m\u001b[38;5;241;43m.\u001b[39;49m\u001b[43menv\u001b[49m\u001b[38;5;241;43m.\u001b[39;49m\u001b[43mstep\u001b[49m\u001b[43m(\u001b[49m\u001b[43maction\u001b[49m\u001b[43m)\u001b[49m\n",
      "File \u001b[0;32m~/.local/lib/python3.8/site-packages/minigrid/minigrid_env.py:576\u001b[0m, in \u001b[0;36mMiniGridEnv.step\u001b[0;34m(self, action)\u001b[0m\n\u001b[1;32m    573\u001b[0m     \u001b[38;5;28;01mpass\u001b[39;00m\n\u001b[1;32m    575\u001b[0m \u001b[38;5;28;01melse\u001b[39;00m:\n\u001b[0;32m--> 576\u001b[0m     \u001b[38;5;28;01mraise\u001b[39;00m \u001b[38;5;167;01mValueError\u001b[39;00m(\u001b[38;5;124mf\u001b[39m\u001b[38;5;124m\"\u001b[39m\u001b[38;5;124mUnknown action: \u001b[39m\u001b[38;5;132;01m{\u001b[39;00maction\u001b[38;5;132;01m}\u001b[39;00m\u001b[38;5;124m\"\u001b[39m)\n\u001b[1;32m    578\u001b[0m \u001b[38;5;28;01mif\u001b[39;00m \u001b[38;5;28mself\u001b[39m\u001b[38;5;241m.\u001b[39mstep_count \u001b[38;5;241m>\u001b[39m\u001b[38;5;241m=\u001b[39m \u001b[38;5;28mself\u001b[39m\u001b[38;5;241m.\u001b[39mmax_steps:\n\u001b[1;32m    579\u001b[0m     truncated \u001b[38;5;241m=\u001b[39m \u001b[38;5;28;01mTrue\u001b[39;00m\n",
      "\u001b[0;31mValueError\u001b[0m: Unknown action: 14"
     ]
    }
   ],
   "source": [
    "env = gym.make(\"MiniGrid-Empty-5x5-v0\", render_mode=\"human\")\n",
    "state_shape = env.observation_space['image'].shape\n",
    "action_shape = 7\n",
    "Q = np.zeros((state_shape[0],state_shape[1],action_shape))\n",
    "\n",
    "learning_rate = 0.5\n",
    "discount = 0.9\n",
    "for episode in range(50):\n",
    "   state, info = env.reset()   \n",
    "   total_reward = 0\n",
    "   for _ in range(100):\n",
    "      action = choose_action(state,0.5) \n",
    "       # User-defined policy function\n",
    "      new_state, reward, terminated, truncated, info = env.step(action)\n",
    "      update_Q(state, action, new_state, reward)\n",
    "      state = new_state\n",
    "      total_reward += reward\n",
    "      if terminated or truncated:\n",
    "         break\n",
    "   print(\"Episode = \", episode+1 , total_reward)\n",
    "\n",
    "\n",
    "env.close()"
   ]
  }
 ],
 "metadata": {
  "kernelspec": {
   "display_name": "gym_env",
   "language": "python",
   "name": "python3"
  },
  "language_info": {
   "codemirror_mode": {
    "name": "ipython",
    "version": 3
   },
   "file_extension": ".py",
   "mimetype": "text/x-python",
   "name": "python",
   "nbconvert_exporter": "python",
   "pygments_lexer": "ipython3",
   "version": "3.8.10"
  }
 },
 "nbformat": 4,
 "nbformat_minor": 2
}
